{
 "cells": [
  {
   "cell_type": "markdown",
   "metadata": {},
   "source": [
    "# Tu Primer Programa"
   ]
  },
  {
   "cell_type": "code",
   "execution_count": 1,
   "metadata": {},
   "outputs": [
    {
     "name": "stdout",
     "output_type": "stream",
     "text": [
      "Date: 11-02-2022 | Time:  06:26:08\n"
     ]
    }
   ],
   "source": [
    "from datetime import datetime\n",
    "\n",
    "rightNow = datetime.today()\n",
    "date_time = rightNow.strftime(\"%d-%m-%Y, %H:%M:%S\")\n",
    "date_time = date_time.split(',')\n",
    "\n",
    "print(\"Date: {date} | Time: {time}\".format(date=date_time[0],time=date_time[1]))\n",
    "\n"
   ]
  },
  {
   "cell_type": "markdown",
   "metadata": {},
   "source": [
    "# Convertidor de Unidades."
   ]
  },
  {
   "cell_type": "code",
   "execution_count": 2,
   "metadata": {},
   "outputs": [
    {
     "name": "stdout",
     "output_type": "stream",
     "text": [
      "Select the option and press enter. \n",
      "Parsecs to Light-Years Conversion --> 1\n",
      "Light-years to Parsecs Conversion --> 2\n",
      "R = 1 LightYears is 0.3 Parsecs\n"
     ]
    }
   ],
   "source": [
    "valueConstant = 3.26156 # 1 parsec value in light-year\n",
    "\n",
    "print(\"Select the option and press enter. \")\n",
    "print(\"Parsecs to Light-Years Conversion --> 1\" + '\\n' \\\n",
    "    + \"Light-years to Parsecs Conversion --> 2\")\n",
    "\n",
    "userSelection = int(input())\n",
    "\n",
    "if userSelection == 1:\n",
    "    userImput = input(\"Enter the parsec value: \")\n",
    "    result = float(userImput) * valueConstant\n",
    "    result = \"{:.5f}\".format(result)\n",
    "    print(\"R = {userimput} Parsecs is {result} LightYears\"\\\n",
    "        .format(userimput=userImput, result=result))\n",
    "\n",
    "elif userSelection == 2:\n",
    "    userImput = input(\"Enter the light-year value: \")\n",
    "    result = float(userImput) / valueConstant\n",
    "    result = \"{:.1f}\".format(result)\n",
    "    print(\"R = {userimput} LightYears is {result} Parsecs\"\\\n",
    "        .format(userimput=userImput, result=result))\n",
    "else:\n",
    "    print(\"You have entered an invalid option.\")\n",
    "\n"
   ]
  }
 ],
 "metadata": {
  "interpreter": {
   "hash": "641aeb772402adc7bad80dc3e9fa055120951664449631f2a57f19909b026f0b"
  },
  "kernelspec": {
   "display_name": "Python 3.9.10 64-bit",
   "language": "python",
   "name": "python3"
  },
  "language_info": {
   "codemirror_mode": {
    "name": "ipython",
    "version": 3
   },
   "file_extension": ".py",
   "mimetype": "text/x-python",
   "name": "python",
   "nbconvert_exporter": "python",
   "pygments_lexer": "ipython3",
   "version": "3.9.10"
  },
  "orig_nbformat": 4
 },
 "nbformat": 4,
 "nbformat_minor": 2
}
