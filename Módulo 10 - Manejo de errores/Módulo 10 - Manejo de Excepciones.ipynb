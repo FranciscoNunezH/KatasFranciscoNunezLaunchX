{
 "cells": [
  {
   "cell_type": "markdown",
   "metadata": {},
   "source": [
    "# Kata del módulo 10"
   ]
  },
  {
   "cell_type": "code",
   "execution_count": 72,
   "metadata": {},
   "outputs": [
    {
     "name": "stdout",
     "output_type": "stream",
     "text": [
      "Escoge: Piedra, Papel o Tijera\n"
     ]
    }
   ],
   "source": [
    "# Imports\n",
    "import random\n",
    "\n",
    "print('Juguemos: Piedra, Papel o Tijera')\n",
    "\n",
    "# Lista con las Opciones\n",
    "Opciones = ['Piedra','Papel','Tijera']\n",
    "\n",
    "# Seleccion aleatoria programa.\n",
    "randomPick = random.randrange(0,3)\n",
    "cpuSelection = Opciones[randomPick]\n",
    "\n",
    "# Se le pide al usuario elija.\n",
    "userSelect = input(\"¿Que escoges? \").capitalize()\n",
    "\n",
    "# Plantilla Mensaje\n",
    "mensaje = 'Cpu: {cpu} VS Usuario: {user} = {result}' \n",
    "\n",
    "# Comparamos la eleccion del Usuario vs la seleccion aleatoria\n",
    "if userSelect == cpuSelection:\n",
    "    print(mensaje.format(cpu=cpuSelection,user=userSelect, result='EMPATE!'))\n",
    "elif userSelect == 'Tijera' and cpuSelection == 'Papel':\n",
    "    print(mensaje.format(cpu=cpuSelection,user=userSelect, result='GANASTE!'))\n",
    "elif userSelect == 'Tijera' and cpuSelection == 'Piedra':\n",
    "    print(mensaje.format(cpu=cpuSelection,user=userSelect, result='PERDISTE!'))\n",
    "elif userSelect == 'Papel' and cpuSelection == 'Piedra':\n",
    "    print(mensaje.format(cpu=cpuSelection,user=userSelect, result='GANASTE!'))\n",
    "elif userSelect == 'Papel' and cpuSelection == 'Tijera':\n",
    "    print(mensaje.format(cpu=cpuSelection,user=userSelect, result='PERDISTE!'))\n",
    "elif userSelect == 'Piedra' and cpuSelection == 'Tijera':\n",
    "    print(mensaje.format(cpu=cpuSelection,user=userSelect, result='GANASTE!'))\n",
    "elif userSelect == 'Piedra' and cpuSelection == 'Papel':\n",
    "    print(mensaje.format(cpu=cpuSelection,user=userSelect, result='PERDISTE!'))\n",
    "else:\n",
    "    # En caso que el usuario introduzca un valor diferente al de la Lista de\n",
    "    # opciones generar una excepción \n",
    "    raise RuntimeError(\n",
    "        'Has escogido \"{a}\" y solo debes escoger una de las siguientes: {b}'\\\n",
    "            .format(a=userSelect,b=Opciones))\n",
    "        "
   ]
  },
  {
   "cell_type": "code",
   "execution_count": 92,
   "metadata": {},
   "outputs": [
    {
     "name": "stdout",
     "output_type": "stream",
     "text": [
      "Advertencia, No se pudo encontrar: C:\\Users\\Drago\\reportes del Mes.txt\n"
     ]
    }
   ],
   "source": [
    "import os\n",
    "\n",
    "# Variables que usaremos para generar los directorios\n",
    "userHome = os.path.expanduser('~')\n",
    "\n",
    "# Ubicacion de este Script\n",
    "dirFile = userHome + '\\\\reportes del Mes.txt'\n",
    "\n",
    "try:\n",
    "    open(dirFile,'r')\n",
    "except FileNotFoundError:\n",
    "    print('Advertencia, No se pudo encontrar:', dirFile)\n",
    "except IsADirectoryError:\n",
    "        print('{} es un directorio valido pero no se puede leer.'\\\n",
    "            .formta(dirFile))"
   ]
  },
  {
   "cell_type": "code",
   "execution_count": 93,
   "metadata": {},
   "outputs": [
    {
     "name": "stdout",
     "output_type": "stream",
     "text": [
      "Division entre cero!\n",
      "\n",
      "Has introducido un Divisor no Valido.\n"
     ]
    }
   ],
   "source": [
    "print('Division imposible\\n')\n",
    "\n",
    "# Solicitamos al usuario dos Numerosp\n",
    "dividendo = input('Introduce un Dividendo:')\n",
    "divisor = input('Introduce el Divisor:')\n",
    "\n",
    "try:\n",
    "    resultado = int(dividendo)/int(divisor)\n",
    "    print(resultado)\n",
    "except (ZeroDivisionError,ValueError):\n",
    "    print('Has introducido un Divisor no Valido.')\n",
    "\n"
   ]
  }
 ],
 "metadata": {
  "interpreter": {
   "hash": "641aeb772402adc7bad80dc3e9fa055120951664449631f2a57f19909b026f0b"
  },
  "kernelspec": {
   "display_name": "Python 3.9.10 64-bit",
   "language": "python",
   "name": "python3"
  },
  "language_info": {
   "name": "python",
   "version": "3.9.10"
  },
  "orig_nbformat": 4
 },
 "nbformat": 4,
 "nbformat_minor": 2
}
