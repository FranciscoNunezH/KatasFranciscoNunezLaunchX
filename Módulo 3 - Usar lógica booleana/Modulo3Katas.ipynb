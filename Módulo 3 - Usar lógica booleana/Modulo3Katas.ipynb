{
 "cells": [
  {
   "cell_type": "markdown",
   "metadata": {},
   "source": [
    "# Ejercicio - Escribir declaraciones if, else, y elif"
   ]
  },
  {
   "cell_type": "markdown",
   "metadata": {},
   "source": [
    "Ejercicio #1"
   ]
  },
  {
   "cell_type": "code",
   "execution_count": 152,
   "metadata": {},
   "outputs": [
    {
     "name": "stdout",
     "output_type": "stream",
     "text": [
      "Advertencia!!! Hay Un Asteroide aproximándose a 49 km/s\n"
     ]
    }
   ],
   "source": [
    "# Añadir el código necesario para crear una variable que guarde \n",
    "# la velocidad del asteroide.\n",
    "asteroidSpeed = 49\n",
    "\n",
    "# Escribe una expresión de prueba para calcular si necesita \n",
    "# una advertencia.\n",
    "#\n",
    "# Agregue las instrucciones que se ejecutarán \n",
    "# si la expresión de prueba es true o false.\n",
    "if asteroidSpeed > 25:\n",
    "    print(\"Advertencia!!! Hay Un Asteroide aproximándose a {} km/s\" \\\n",
    "        .format(asteroidSpeed)) \n",
    "else:\n",
    "    print(\"Sin alertas...\")"
   ]
  },
  {
   "cell_type": "markdown",
   "metadata": {},
   "source": [
    "Ejercicio #2"
   ]
  },
  {
   "cell_type": "code",
   "execution_count": 153,
   "metadata": {},
   "outputs": [
    {
     "name": "stdout",
     "output_type": "stream",
     "text": [
      "El Asteroide:\n",
      "No Emite un Rayo de Luz.\n",
      "No se Lanza ninguna Alerta.\n",
      "Un Asteroide aproximándose a 19 km/s.\n"
     ]
    }
   ],
   "source": [
    "# Agrega el código para crear una variable \n",
    "# para un asteroide que viaja a 19 km/s\n",
    "asteroidSpeed = 19\n",
    "\n",
    "# Escribe varias expresiones de prueba para determinar \n",
    "# si puedes ver el rayo de luz desde la tierra\n",
    "#\n",
    "# Agrega las instrucciones que se ejecutarán si las \n",
    "# expresiones de prueba son True o False\n",
    "if asteroidSpeed < 20:\n",
    "    print(\"El Asteroide:\\n\" \\\n",
    "            + \"No Emite un Rayo de Luz.\\n\" \\\n",
    "            + \"No se Lanza ninguna Alerta.\\n\" \\\n",
    "            + \"Un Asteroide aproximándose a {} km/s.\".format(asteroidSpeed))\n",
    "elif asteroidSpeed >= 20 and asteroidSpeed < 25:\n",
    "    print(\"El Asteroide:\\n\" \\\n",
    "            + \"Emite un Rayo de Luz.\\n\" \\\n",
    "            + \"No se Lanza ninguna Alerta.\\n\" \\\n",
    "            + \"Un Asteroide aproximándose a {} km/s.\".format(asteroidSpeed))\n",
    "else:\n",
    "    print(\"El Asteroide:\\n\" \\\n",
    "            + \"Emite un Rayo de Luz.\\n\" \\\n",
    "            + \"Se Lanza ninguna Alerta.\\n\" \\\n",
    "            + \"Un Asteroide aproximándose a {} km/s.\".format(asteroidSpeed))\n"
   ]
  },
  {
   "cell_type": "markdown",
   "metadata": {},
   "source": [
    "Ejercicio #3"
   ]
  },
  {
   "cell_type": "code",
   "execution_count": 1,
   "metadata": {},
   "outputs": [
    {
     "name": "stdout",
     "output_type": "stream",
     "text": [
      "El Asteroide:\n",
      "Si Emite un Rayo de Luz.\n",
      "Si se lanza una Alerta.\n",
      "Mide 989 mts y Viaja a 43 km/s.\n",
      "Pronostico: Causara Mucho Daño.\n"
     ]
    }
   ],
   "source": [
    "# Agrega el código para crear nuevas variables para \n",
    "# la velocidad y el tamaño del asteroide.\n",
    "import random\n",
    "\n",
    "# Variables que almacenan un valor aleatorio de Tamaño/velocidad\n",
    "asteroidSpeed = random.randint(1, 100)\n",
    "asteroidSize = random.randint(1, 1300)\n",
    "\n",
    "\n",
    "# Para probar el código, prueba con varias velocidades y tamaños.\n",
    "#\n",
    "# Escribe varias expresiones de prueba o combinaciones de expresiones\n",
    "# de prueba para determinar qué mensaje se debe enviar a Tierra.\n",
    "if asteroidSize < 25:\n",
    "    if asteroidSpeed < 20:\n",
    "        print(\"El Asteroide:\\n\" \\\n",
    "            + \"No Emite un Rayo de Luz.\\n\" \\\n",
    "            + \"No se Lanza ninguna Alerta.\\n\" \\\n",
    "            + \"Mide {a} mts y Viaja a {b} km/s.\".format(a=asteroidSize, b=asteroidSpeed))\n",
    "    elif asteroidSpeed >= 20 and asteroidSpeed < 25:\n",
    "        print(\"El Asteroide:\\n\" \\\n",
    "            + \"Si se Emite un Rayo de Luz.\\n\" \\\n",
    "            + \"No se Lanza ninguna Alerta.\\n\" \\\n",
    "            + \"Mide {a} mts y Viaja a {b} km/s.\".format(a=asteroidSize, b=asteroidSpeed))\n",
    "    else:\n",
    "        print(\"El Asteroide:\\n\" \\\n",
    "            + \"Si Emite un Rayo de Luz.\\n\" \\\n",
    "            + \"Si se lanza una Alerta.\\n\" \\\n",
    "            + \"Mide {a} mts y Viaja a {b} km/s.\".format(a=asteroidSize, b=asteroidSpeed))\n",
    "\n",
    "    print(\"Pronostico: Se desintegra.\")\n",
    "\n",
    "elif asteroidSize >= 25 and asteroidSize < 1000:\n",
    "    if asteroidSpeed < 20:\n",
    "        print(\"El Asteroide:\\n\" \\\n",
    "            + \"No Emite un Rayo de Luz.\\n\" \\\n",
    "            + \"No se Lanza ninguna Alerta.\\n\" \\\n",
    "            + \"Mide {a} mts y Viaja a {b} km/s.\".format(a=asteroidSize, b=asteroidSpeed))\n",
    "    elif asteroidSpeed >= 20 and asteroidSpeed < 25:\n",
    "        print(\"El Asteroide:\\n\" \\\n",
    "            + \"Si se Emite un Rayo de Luz.\\n\" \\\n",
    "            + \"No se Lanza ninguna Alerta.\\n\" \\\n",
    "            + \"Mide {a} mts y Viaja a {b} km/s.\".format(a=asteroidSize, b=asteroidSpeed))\n",
    "    else:\n",
    "         print(\"El Asteroide:\\n\" \\\n",
    "            + \"Si Emite un Rayo de Luz.\\n\" \\\n",
    "            + \"Si se lanza una Alerta.\\n\" \\\n",
    "            + \"Mide {a} mts y Viaja a {b} km/s.\".format(a=asteroidSize, b=asteroidSpeed))\n",
    "\n",
    "    print(\"Pronostico: Causara Mucho Daño.\")\n",
    "    \n",
    "else:\n",
    "    print(\"Pronto averiguaremos que sintieron los Dinosaurios.\\n\" \\\n",
    "        + \"El Asteroide mide {a} mts y viaja a {b} km/s.\" \\\n",
    "        .format(a=asteroidSize, b=asteroidSpeed)) \n",
    "\n",
    "\n",
    "\n"
   ]
  }
 ],
 "metadata": {
  "interpreter": {
   "hash": "641aeb772402adc7bad80dc3e9fa055120951664449631f2a57f19909b026f0b"
  },
  "kernelspec": {
   "display_name": "Python 3.9.10 64-bit",
   "language": "python",
   "name": "python3"
  },
  "language_info": {
   "codemirror_mode": {
    "name": "ipython",
    "version": 3
   },
   "file_extension": ".py",
   "mimetype": "text/x-python",
   "name": "python",
   "nbconvert_exporter": "python",
   "pygments_lexer": "ipython3",
   "version": "3.9.10"
  },
  "orig_nbformat": 4
 },
 "nbformat": 4,
 "nbformat_minor": 2
}
