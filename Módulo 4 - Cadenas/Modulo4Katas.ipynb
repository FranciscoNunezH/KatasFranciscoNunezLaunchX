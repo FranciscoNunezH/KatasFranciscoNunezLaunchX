{
 "cells": [
  {
   "cell_type": "markdown",
   "metadata": {},
   "source": [
    "# Ejercicio 1: Transformar cadenas"
   ]
  },
  {
   "cell_type": "code",
   "execution_count": 76,
   "metadata": {},
   "outputs": [
    {
     "name": "stdout",
     "output_type": "stream",
     "text": [
      "Interesting facts about the Moon\n",
      "On average, the Moon moves 4cm away from the Earth every year\n",
      "The highest daylight temperature of the Moon is 127 C\n",
      "-----\n",
      "Interesting facts about the Moon\n",
      "On average, the Moon moves 4cm away from the Earth every year\n",
      "The highest daylight temperature of the Moon is 127 Celcius\n"
     ]
    }
   ],
   "source": [
    "# El texto con el que trabajarás es el siguiente:\n",
    "text = \"\"\" Interesting facts about the Moon. The Moon is Earth's only \n",
    "satellite. There are several interesting facts about the Moon and how \n",
    "it affects life here on Earth. On average, the Moon moves 4cm away \n",
    "from the Earth every year. This yearly drift is not significant enough \n",
    "to cause immediate effects on Earth. The highest daylight temperature \n",
    "of the Moon is 127 C.\"\"\"\n",
    "\n",
    "# Primero, divide el texto en cada oración para trabajar con su contenido:\n",
    "# Añade el código necesario.\n",
    "listaTexto = text.replace('\\n',\"\").split('.')\n",
    "\n",
    "# Ahora, define algunas palabras clave para búsqueda que te ayudarán \n",
    "# a determinar si una oración contiene un hecho.\n",
    "# Define las palabras pista: average, temperature y Interesting suenan bien\n",
    "palabras_clave = ['average', 'temperature', 'Interesting']\n",
    "\n",
    "# Crea un bucle para imprimir solo datos sobre la Luna que estén \n",
    "# relacionados con las palabras clave definidas anteriormente:\n",
    "#\n",
    "# Ciclo for para recorrer la cadena.\n",
    "for elemento in listaTexto:\n",
    "    for palabra in palabras_clave:\n",
    "        if palabra in elemento:\n",
    "            print(elemento.strip())\n",
    "            break\n",
    "\n",
    "# Finalmente, actualiza el bucle(ciclo) para cambiar C a Celsius:\n",
    "# Ciclo para cambiar C a Celsius\n",
    "print('-----')\n",
    "for elemento in listaTexto:\n",
    "    for palabra in palabras_clave:\n",
    "        if palabra in elemento:\n",
    "            print(elemento.strip().replace(\"C\",\"Celcius\"))\n",
    "            break\n",
    "\n"
   ]
  },
  {
   "cell_type": "markdown",
   "metadata": {},
   "source": [
    "# Ejercicio 2: Formateando Cadenas"
   ]
  },
  {
   "cell_type": "code",
   "execution_count": 3,
   "metadata": {},
   "outputs": [
    {
     "name": "stdout",
     "output_type": "stream",
     "text": [
      "Gravity Facts about Moon\n",
      "-------------------------------------------------------------------------------\n",
      "Planet Name: Earth\n",
      "Gravity on Moon: 1.6199999999999999 m/s2\n",
      "\n",
      "Gravity Facts about Ganímedes\n",
      "///////////////////////////////////////////////////////////////////////////////\n",
      "Planet Name: Marte\n",
      "Gravity on Ganymede: 0.00143 m/s2\n"
     ]
    }
   ],
   "source": [
    "# Datos con los que vas a trabajar\n",
    "name = \"Moon\"\n",
    "gravity = 0.00162 # in kms\n",
    "planet = \"Earth\"\n",
    "\n",
    "# Primero, crea un título para el texto. Debido a que este texto\n",
    "# trata sobre la gravedad en la Tierra y la Luna, úsalo para crear\n",
    "# un título significativo. Utiliza las variables en lugar de escribir.\n",
    "# Creamos el título\n",
    "titulo = f'Gravity Facts about {name}'\n",
    "\n",
    "# Ahora crea una plantilla de cadena multilínea para contener el\n",
    "# resto de la información. En lugar de usar kilómetros, debes \n",
    "# convertir la distancia a metros multiplicando por 1,000.\n",
    "#\n",
    "# Creamos la plantilla\n",
    "info = f\"\"\"{'-'*79}\n",
    "Planet Name: {planet}\n",
    "Gravity on {name}: {gravity * 1000} m/s2\"\"\"\n",
    "\n",
    "# Finalmente, usa ambas variables para unir el título y los hechos.\n",
    "# # Unión de ambas cadenas\n",
    "plantilla = f\"\"\"{titulo}\n",
    "{info}\"\"\"\n",
    "\n",
    "# Ahora usa información de una luna diferente para ver si la \n",
    "# plantilla todavía funciona.\n",
    "name = \"Ganímedes\"\n",
    "gravity = 0.00143\n",
    "planet = \"Marte\"\n",
    "\n",
    "# Comprueba la plantilla\n",
    "print(plantilla)\n",
    "\n",
    "# La salida no muestra información sobre Marte.\n",
    "# Todavía muestra información sobre la Luna.\n",
    "#\n",
    "# Nueva plantilla\n",
    "nuevaPlantilla = \"\"\"\n",
    "Gravity Facts about {name}\n",
    "{separador}\n",
    "Planet Name: {planet}\n",
    "Gravity on Ganymede: {gravity} m/s2\"\"\"\n",
    "\n",
    "print(nuevaPlantilla.format(name=name,separador='/'*79 \\\n",
    "    ,planet=planet,gravity=gravity))\n",
    "\n",
    "\n"
   ]
  }
 ],
 "metadata": {
  "interpreter": {
   "hash": "641aeb772402adc7bad80dc3e9fa055120951664449631f2a57f19909b026f0b"
  },
  "kernelspec": {
   "display_name": "Python 3.9.10 64-bit",
   "language": "python",
   "name": "python3"
  },
  "language_info": {
   "codemirror_mode": {
    "name": "ipython",
    "version": 3
   },
   "file_extension": ".py",
   "mimetype": "text/x-python",
   "name": "python",
   "nbconvert_exporter": "python",
   "pygments_lexer": "ipython3",
   "version": "3.9.10"
  },
  "orig_nbformat": 4
 },
 "nbformat": 4,
 "nbformat_minor": 2
}
