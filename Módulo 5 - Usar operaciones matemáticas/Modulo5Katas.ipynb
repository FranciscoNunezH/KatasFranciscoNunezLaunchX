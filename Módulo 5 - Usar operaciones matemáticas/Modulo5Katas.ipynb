{
 "cells": [
  {
   "cell_type": "markdown",
   "metadata": {},
   "source": [
    "# Ejercicio1 - Utilizar operadores aritméticos"
   ]
  },
  {
   "cell_type": "code",
   "execution_count": 20,
   "metadata": {},
   "outputs": [
    {
     "name": "stdout",
     "output_type": "stream",
     "text": [
      "Distancia entre la Tierra y Júpiter = 628949330 kms / 390577534 millas\n"
     ]
    }
   ],
   "source": [
    "# Exploremos cómo podemos crear un programa que pueda calcular la \n",
    "# distancia entre dos planetas. Comenzaremos usando dos distancias \n",
    "# de planetas: Tierra (149.597.870 km) y Júpiter (778.547.200 km).\n",
    "#\n",
    "# Crear variables para almacenar las dos distancias\n",
    "# ¡Asegúrate de quitar las comas!\n",
    "\n",
    "from math import ceil\n",
    "\n",
    "distanciaTierra = 149597870\n",
    "distanciaJupiter = 778547200\n",
    "\n",
    "# Con los valores obtenidos, es el momento de añadir el código para \n",
    "# realizar la operación. Restarás el primer planeta del segundo para \n",
    "# determinar la distancia en kilómetros. A continuación, puedes \n",
    "# convertir la distancia del kilómetro en millas multiplicándola \n",
    "# por 0.621.\n",
    "#\n",
    "# Calcular la distancia entre planetas\n",
    "distanciaResultado = abs(distanciaTierra - distanciaJupiter)\n",
    "distanciaMillas = ceil(distanciaResultado*0.621)\n",
    "\n",
    "print('Distancia entre la Tierra y Júpiter = {km} kms / {mi} millas' \\\n",
    ".format(km=distanciaResultado, mi=distanciaMillas))\n",
    "\n",
    "\n"
   ]
  },
  {
   "cell_type": "markdown",
   "metadata": {},
   "source": [
    "# Ejercicio 2: convierte cadenas en números y usa valores absolutos"
   ]
  },
  {
   "cell_type": "code",
   "execution_count": 23,
   "metadata": {},
   "outputs": [
    {
     "name": "stdout",
     "output_type": "stream",
     "text": [
      "El resultado de la distancia entre los planetas es: 31236300.0 Millas\n"
     ]
    }
   ],
   "source": [
    "# Para crear nuestra aplicación, queremos leer la distancia del sol para dos\n",
    "# planetas, y luego mostrar la distancia entre los planetas. Haremos esto \n",
    "# usando input para leer los valores, int para convertir a entero y luego \n",
    "# abs para convertir el resultado en su valor absoluto.\n",
    "#\n",
    "# Almacenar las entradas del usuario\n",
    "planetaUno = input(\"Introduce la distancia al sol del primer Planeta (Km):\")\n",
    "planetaDos = input(\"Introduce la distancia al sol del primer Planeta (Km):\")\n",
    "\n",
    "# Debido a que input devuelve valores de cadena, necesitamos convertirlos \n",
    "# en números. Para nuestro ejemplo, usaremos int.\n",
    "# Convierte las cadenas de ambos planetas a números enteros.\n",
    "\n",
    "planetaUno = int(planetaUno)\n",
    "planetaDos = int(planetaDos)\n",
    "\n",
    "# Con los valores almacenados como números, ahora puedes agregar el código \n",
    "# para realizar el cálculo, restando el primer planeta del segundo. Debido \n",
    "# a que el segundo planeta podría ser un número mayor, usarás abs para \n",
    "# convertirlo a un valor absoluto. También agregarás el código para mostrar \n",
    "# el resultado en millas multiplicando la distancia del kilómetro por 0.621\n",
    "#\n",
    "# Realizar el cálculo y determinar el valor absoluto\n",
    "# Convertir de KM a Millas\n",
    "resultado = abs((planetaUno-planetaDos)*0.621)\n",
    "print('El resultado de la distancia entre los planetas es: {} Millas'\\\n",
    "    .format(resultado))\n",
    "\n",
    "\n"
   ]
  }
 ],
 "metadata": {
  "interpreter": {
   "hash": "641aeb772402adc7bad80dc3e9fa055120951664449631f2a57f19909b026f0b"
  },
  "kernelspec": {
   "display_name": "Python 3.9.10 64-bit",
   "language": "python",
   "name": "python3"
  },
  "language_info": {
   "codemirror_mode": {
    "name": "ipython",
    "version": 3
   },
   "file_extension": ".py",
   "mimetype": "text/x-python",
   "name": "python",
   "nbconvert_exporter": "python",
   "pygments_lexer": "ipython3",
   "version": "3.9.10"
  },
  "orig_nbformat": 4
 },
 "nbformat": 4,
 "nbformat_minor": 2
}
