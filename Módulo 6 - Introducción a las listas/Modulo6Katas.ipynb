{
 "cells": [
  {
   "cell_type": "markdown",
   "metadata": {},
   "source": [
    "# Ejercicio1: Crear y usar listas de Python"
   ]
  },
  {
   "cell_type": "code",
   "execution_count": 5,
   "metadata": {},
   "outputs": [
    {
     "name": "stdout",
     "output_type": "stream",
     "text": [
      "['Mercury', 'Venus', 'Earth', 'Mars', 'Jupiter', 'Saturn', 'Neptune']\n",
      "The number of Planets in Solar System are: 8\n",
      "The last Planet in Solar System is: Pluto\n"
     ]
    }
   ],
   "source": [
    "# En primer lugar, crea una variable denominada planets.\n",
    "# Agrega los ocho planetas (sin Plutón) a la lista. \n",
    "# A continuación, muestra el número de planetas.\n",
    "#\n",
    "# Creamos la lista planets y la mostramos\n",
    "planets = ['Mercury', 'Venus', 'Earth', 'Mars', 'Jupiter', 'Saturn', 'Neptune']\n",
    "print(planets)\n",
    "\n",
    "# Agrega a Plutón a la lista que creaste. Luego muestra \n",
    "# tanto el número de planetas como el último planeta \n",
    "# de la lista.\n",
    "#\n",
    "# Agregamos a plutón y mostramos el último elemento\n",
    "planets.append('Pluto')\n",
    "print('The number of Planets in Solar System is: {}'.format(len(planets)))\n",
    "print('The last Planet in Solar System is: {}'.format(planets[-1 ]))\n"
   ]
  },
  {
   "cell_type": "markdown",
   "metadata": {},
   "source": [
    "# Ejercicio 2: Trabajando con datos de una lista"
   ]
  },
  {
   "cell_type": "code",
   "execution_count": 24,
   "metadata": {},
   "outputs": [
    {
     "name": "stdout",
     "output_type": "stream",
     "text": [
      "The selected planet is Venus.\n",
      "['Mercury'] are closer to the Sun than Venus\n",
      "['Earth', 'Mars', 'Jupiter', 'Saturn', 'Neptune'] are further to the Sun than Venus\n"
     ]
    }
   ],
   "source": [
    "# Es posible que debas trabajar con diferentes secciones de una lista.\n",
    "# En nuestro ejemplo, queremos mostrar planetas más cerca y más lejos\n",
    "# del sol de un planeta que el usuario ingresa por teclado.\n",
    "#\n",
    "# Comienza agregando el código para crear una lista con los planetas.\n",
    "# Lista de planetas\n",
    "planets = ['Mercury', 'Venus', 'Earth', 'Mars', 'Jupiter', 'Saturn', 'Neptune']\n",
    "\n",
    "# Solicitamos el nombre de un planeta.\n",
    "# A continuación, agrega el código para solicitar al usuario un nombre.\n",
    "# Debido a que las cadenas distinguen entre mayúsculas y minúsculas en Python,\n",
    "# pídale al usuario que use una letra mayúscula para comenzar el nombre \n",
    "# del planeta. Mejor usamos la función .capitalize()\n",
    "userInput = input(\"Search for a Planet: \").capitalize()\n",
    "\n",
    "# Busca el planeta en la lista.\n",
    "planetIndex = planets.index(userInput)\n",
    "\n",
    "# Para determinar qué planetas están más cerca que el que ingresó el usuario, \n",
    "# debes encontrar dónde está el planeta en la lista. Puedes utilizar index \n",
    "# para realizar esta operación. Agrega el código para encontrar el índice \n",
    "# del planeta.\n",
    "#\n",
    "# Busca el planeta en la lista\n",
    "print('The selected planet is {}.'.format(planets[planetIndex]))\n",
    "\n",
    "# Muestra los planetas más cercanos al sol\n",
    "print('{planets} are closer to the Sun than {planetUser}'\\\n",
    "    .format(planets=planets[:planetIndex],planetUser=planets[planetIndex]))\n",
    "\n",
    "# Muestra los planetas más lejanos al sol\n",
    "print('{planets} are further to the Sun than {planetUser}'\\\n",
    "    .format(planets=planets[planetIndex + 1:],planetUser=planets[planetIndex]))"
   ]
  }
 ],
 "metadata": {
  "interpreter": {
   "hash": "641aeb772402adc7bad80dc3e9fa055120951664449631f2a57f19909b026f0b"
  },
  "kernelspec": {
   "display_name": "Python 3.9.10 64-bit",
   "language": "python",
   "name": "python3"
  },
  "language_info": {
   "codemirror_mode": {
    "name": "ipython",
    "version": 3
   },
   "file_extension": ".py",
   "mimetype": "text/x-python",
   "name": "python",
   "nbconvert_exporter": "python",
   "pygments_lexer": "ipython3",
   "version": "3.9.10"
  },
  "orig_nbformat": 4
 },
 "nbformat": 4,
 "nbformat_minor": 2
}
