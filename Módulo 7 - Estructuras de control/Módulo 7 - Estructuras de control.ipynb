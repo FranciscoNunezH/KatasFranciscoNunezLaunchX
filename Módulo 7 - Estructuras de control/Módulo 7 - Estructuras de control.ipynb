{
 "cells": [
  {
   "cell_type": "markdown",
   "metadata": {},
   "source": [
    "# Ejercicio 1: Creación de un bucle \"while\""
   ]
  },
  {
   "cell_type": "code",
   "execution_count": 9,
   "metadata": {},
   "outputs": [
    {
     "name": "stdout",
     "output_type": "stream",
     "text": [
      "['Jupiter', 'Venus', 'Tierra']\n"
     ]
    }
   ],
   "source": [
    "# Comienza agregando dos variables, una para la entrada del usuario,\n",
    "# con el nombre new_planet, y otra variable para la lista de planetas,\n",
    "# denominada planets.\n",
    "\n",
    "# Declara dos variables\n",
    "new_planets = None\n",
    "planets = []\n",
    "\n",
    "# Finalmente, usarás input para solicitar al usuario que ingrese un \n",
    "# nuevo nombre de planeta o que escriba done si ha terminado de \n",
    "# ingresar nombres de planeta. Almacenará el valor de input en la\n",
    "# variable new_planet.\n",
    "#\n",
    "# Escribe el ciclo while solicitado\n",
    "while new_planets != 'Done':\n",
    "    if new_planets:\n",
    "        planets.append(new_planets)\n",
    "    new_planets = input('Introduce Un planeta: ').capitalize()\n",
    "\n",
    "print(planets)\n",
    "\n"
   ]
  },
  {
   "cell_type": "markdown",
   "metadata": {},
   "source": [
    "# Ejercicio 2: Creación de un ciclo \"for\""
   ]
  },
  {
   "cell_type": "code",
   "execution_count": 16,
   "metadata": {},
   "outputs": [
    {
     "name": "stdout",
     "output_type": "stream",
     "text": [
      "0 Jupiter\n",
      "1 Venus\n",
      "2 Tierra\n"
     ]
    }
   ],
   "source": [
    "# La variable planets almacena los nombres de planeta que \n",
    "# ha introducido un usuario. Ahora usarás un ciclo para mostrar \n",
    "# esas entradas.\n",
    "# Crea un ciclo for para iterar sobre la lista planets. \n",
    "# Puedes usar como nombre de la variable planet para cada planeta. \n",
    "# Dentro del ciclo for, recuerda utilizar print para mostrar cada planet.\n",
    "#\n",
    "# Escribe tu ciclo for para iterar en una lista de planetas\n",
    "for planetName in planets:\n",
    "    print(planets.index(planetName), planetName)"
   ]
  }
 ],
 "metadata": {
  "interpreter": {
   "hash": "641aeb772402adc7bad80dc3e9fa055120951664449631f2a57f19909b026f0b"
  },
  "kernelspec": {
   "display_name": "Python 3.9.10 64-bit",
   "language": "python",
   "name": "python3"
  },
  "language_info": {
   "codemirror_mode": {
    "name": "ipython",
    "version": 3
   },
   "file_extension": ".py",
   "mimetype": "text/x-python",
   "name": "python",
   "nbconvert_exporter": "python",
   "pygments_lexer": "ipython3",
   "version": "3.9.10"
  },
  "orig_nbformat": 4
 },
 "nbformat": 4,
 "nbformat_minor": 2
}
