{
 "cells": [
  {
   "cell_type": "markdown",
   "metadata": {},
   "source": [
    "# Ejercicio 1: Creación de diccionarios de Python"
   ]
  },
  {
   "cell_type": "code",
   "execution_count": 23,
   "metadata": {},
   "outputs": [
    {
     "name": "stdout",
     "output_type": "stream",
     "text": [
      "Mars has 2 moons.\n",
      "Mars has 2 moons and has the following circumferences: polar=6752 / equatorial=6792\n"
     ]
    }
   ],
   "source": [
    "# Para este ejercicio, crearás un diccionario que almacene información\n",
    "# sobre el planeta Marte.\n",
    "#\n",
    "# Agrega el código para crear un nuevo diccionario denominado 'planet'.\n",
    "# Rellena con la siguiente información:\n",
    "# name: Mars\n",
    "# moons: 2\n",
    "#\n",
    "# Crea un diccionario llamado planet con los datos propuestos\n",
    "planet = {'name':'Mars','moons':2}\n",
    "\n",
    "# Muestra el nombre del planeta y el número de lunas que tiene.\n",
    "print('{planet} has {moon} moons.'.format(planet=planet.get('name')\\\n",
    "    , moon=planet.get('moons')))\n",
    "\n",
    "# Agrega la clave circunferencia con los datos proporcionados previamente.\n",
    "planet['circumference (km)'] = {'polar':6752, 'equatorial':6792}\n",
    "\n",
    "# Imprime el nombre del planeta con su circunferencia polar.\n",
    "print('{planet} has {moon} moons and has the following circumferences: '\\\n",
    "    'polar={polar} / equatorial={equatorial}'.format(planet=planet.get('name')\\\n",
    "    , moon=planet.get('moons'),polar=planet.get('circumference (km)').get('polar')\\\n",
    "    , equatorial=planet.get('circumference (km)').get('equatorial')))"
   ]
  },
  {
   "cell_type": "markdown",
   "metadata": {},
   "source": [
    "# Ejercicio 2: Programación dinámica con diccionarios"
   ]
  },
  {
   "cell_type": "code",
   "execution_count": 55,
   "metadata": {},
   "outputs": [
    {
     "name": "stdout",
     "output_type": "stream",
     "text": [
      "dict_values([0, 0, 1, 2, 79, 82, 27, 14, 5, 2, 1, 1]) 12\n",
      "El total de Lunas es 214, El Total de Planetas es 12, El promedio de Lunas es 17.83.\n"
     ]
    }
   ],
   "source": [
    "# En este escenario, calcularás tanto el número total de lunas en el\n",
    "# sistema solar como el número promedio de lunas que tiene un planeta.\n",
    "#\n",
    "# Planets and moons\n",
    "planet_moons = {'mercury': 0,\n",
    "                'venus': 0,\n",
    "                'earth': 1,\n",
    "                'mars': 2,\n",
    "                'jupiter': 79,\n",
    "                'saturn': 82,\n",
    "                'uranus': 27,\n",
    "                'neptune': 14,\n",
    "                'pluto': 5,\n",
    "                'haumea': 2,\n",
    "                'makemake': 1,\n",
    "                'eris': 1}\n",
    "\n",
    "# Agrega el código a continuación para determinar el número de lunas.\n",
    "# Comienza almacenando el valor values de planet_moons en una variable\n",
    "# denominada moons. A continuación, almacena el número de planetas en\n",
    "# una variable denominada planets.\n",
    "#\n",
    "# Añade el código para determinar el número de lunas.\n",
    "moons = planet_moons.values()\n",
    "planets = len(planet_moons.keys())\n",
    "print(moons, planets)\n",
    "\n",
    "# Agrega el código para contar el número de lunas. Puedes hacerlo creando\n",
    "# un ciclo for para iterar a través de las lunas moons y agregándolos a una\n",
    "# variable denominada total_moons. Finalmente calcule el promedio dividiendo\n",
    "# total_moons por planets e imprimiendo los resultados.\n",
    "#\n",
    "# Agrega el código para contar el número de lunas.\n",
    "total_moons = 0\n",
    "\n",
    "for m in moons:\n",
    "    total_moons += m\n",
    "\n",
    "print('El total de Lunas es {suma}, '\\\n",
    "        'El Total de Planetas es {total}, '\\\n",
    "        'El promedio de Lunas es {promedio:.2f}.'\\\n",
    "        .format(suma=total_moons,total=planets,promedio=total_moons/planets))\n",
    "\n",
    "\n"
   ]
  }
 ],
 "metadata": {
  "interpreter": {
   "hash": "641aeb772402adc7bad80dc3e9fa055120951664449631f2a57f19909b026f0b"
  },
  "kernelspec": {
   "display_name": "Python 3.9.10 64-bit",
   "language": "python",
   "name": "python3"
  },
  "language_info": {
   "codemirror_mode": {
    "name": "ipython",
    "version": 3
   },
   "file_extension": ".py",
   "mimetype": "text/x-python",
   "name": "python",
   "nbconvert_exporter": "python",
   "pygments_lexer": "ipython3",
   "version": "3.9.10"
  },
  "orig_nbformat": 4
 },
 "nbformat": 4,
 "nbformat_minor": 2
}
