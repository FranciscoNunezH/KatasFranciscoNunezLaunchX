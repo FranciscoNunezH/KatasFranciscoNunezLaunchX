{
 "cells": [
  {
   "cell_type": "markdown",
   "metadata": {},
   "source": [
    "# Ejercicio: Uso de funciones en Python"
   ]
  },
  {
   "cell_type": "code",
   "execution_count": 90,
   "metadata": {},
   "outputs": [
    {
     "name": "stdout",
     "output_type": "stream",
     "text": [
      "Reporte de niveles Combustible:\n",
      "Tanque A = 30\n",
      "Tanque B = 27\n",
      "Tanque C = 12\n",
      "Suma Total = 69\n",
      "El nivel Promedio es: 23.00.\n"
     ]
    }
   ],
   "source": [
    "# Los argumentos requeridos en las funciones se utilizan cuando las funciones\n",
    "# necesitan que esos argumentos funcionen correctamente. En este ejercicio,\n",
    "# construirás un informe de combustible que requiere información de varias\n",
    "# ubicaciones de combustible en todo el cohete.\n",
    "#\n",
    "# Función para leer 3 tanques de combustible y muestre el promedio\n",
    "def calcular_combustible(tankA,tankB,tankC):\n",
    "    suma_tanques = tankA + tankB + tankC\n",
    "    promedio_tanques = suma_tanques/3\n",
    "    return ('Reporte de niveles Combustible:'\\\n",
    "        '\\nTanque A = {tankA}'\\\n",
    "        '\\nTanque B = {tankB}'\\\n",
    "        '\\nTanque C = {tankC}'\\\n",
    "        '\\nSuma Total = {suma}'\\\n",
    "        '\\nEl nivel Promedio es: {promedio:.2f}.'\\\n",
    "        .format(tankA=tankA,tankB=tankB,tankC=tankC\\\n",
    "            ,suma= suma_tanques, promedio=promedio_tanques))\n",
    "# print(calcular_combustible(30, 27, 12))\n",
    "\n",
    "# Función promedio \n",
    "def promedios(tankA,tankB,tankC):\n",
    "    return (tankA + tankB + tankC)/3\n",
    "\n",
    "# Actualiza la función\n",
    "def calcular_combustible(tankA,tankB,tankC):\n",
    "    suma_tanques = tankA + tankB + tankC\n",
    "    promedio_tanques = promedios(tankA,tankB,tankC)\n",
    "    return ('Reporte de niveles Combustible:'\\\n",
    "        '\\nTanque A = {tankA}'\\\n",
    "        '\\nTanque B = {tankB}'\\\n",
    "        '\\nTanque C = {tankC}'\\\n",
    "        '\\nSuma Total = {suma}'\\\n",
    "        '\\nEl nivel Promedio es: {promedio:.2f}.'\\\n",
    "        .format(tankA=tankA,tankB=tankB,tankC=tankC\\\n",
    "            ,suma= suma_tanques, promedio=promedio_tanques))\n",
    "\n",
    "print(calcular_combustible(30, 27, 12))\n"
   ]
  },
  {
   "cell_type": "markdown",
   "metadata": {},
   "source": [
    "# Ejercicio 2: Trabajo con argumentos de palabra clave"
   ]
  },
  {
   "cell_type": "code",
   "execution_count": 89,
   "metadata": {},
   "outputs": [
    {
     "name": "stdout",
     "output_type": "stream",
     "text": [
      "Mision a Marte\n",
      "Hora Lanzamiento = 16:30\n",
      "Tiempo de Vuelo = 27:45:16\n",
      "Destino = Marte\n",
      "Tanque Externo = 49%\n",
      "Tanque Interno = 57%\n"
     ]
    }
   ],
   "source": [
    "# En este ejercicio, construirás un informe de cohete que requiere varias piezas\n",
    "# de información, como el tiempo hasta el destino, el combustible a la izquierda\n",
    "# y el nombre del destino. Comienza por crear una función que creará un informe\n",
    "# preciso de la misión:\n",
    "#\n",
    "# Función con un informe preciso de la misión.\n",
    "# Considera hora de prelanzamiento, tiempo de vuelo, destino, tanque externo y \n",
    "# tanque interno.\n",
    "# Escribe tu nueva función de reporte considerando lo anterior\n",
    "def reportes_estado(lanzamiento,tiempo,destino,tankE,tankI):\n",
    "    return ('Mision a {destino}'\\\n",
    "        '\\nHora Lanzamiento = {lanzamiento}'\\\n",
    "        '\\nTiempo de Vuelo = {tiempo}'\\\n",
    "        '\\nDestino = {destino}'\\\n",
    "        '\\nTanque Externo = {tankE}%'\\\n",
    "        '\\nTanque Interno = {tankI}%'\\\n",
    "        .format(destino=destino,lanzamiento=lanzamiento,tiempo=tiempo\\\n",
    "            ,tankE=tankE,tankI=tankI))\n",
    "\n",
    "print(reportes_estado('16:30','27:45:16','Marte',49,57))"
   ]
  },
  {
   "cell_type": "code",
   "execution_count": 88,
   "metadata": {},
   "outputs": [
    {
     "name": "stdout",
     "output_type": "stream",
     "text": [
      "Mision a Marte\n",
      "Tiempo de Vuelo = 1 Horas, 19 minutos\n",
      "Destino = Marte\n",
      "Combustible total = 6400 Lts\n",
      "\n",
      "Mision a Marte\n",
      "Tiempo de Vuelo = 1 Horas, 19 minutos\n",
      "Destino = Marte\n",
      "Combustible total = 6400 Lts\n",
      "El Tanque A tiene 4500 lts restantes\n",
      "El Tanque B tiene 1900 lts restantes\n"
     ]
    }
   ],
   "source": [
    "import math\n",
    "\n",
    "# Escribe tu nueva función de reporte considerando lo anterior\n",
    "def reportes_estado(destino,*tiempo, **combustible):\n",
    "    tiempo = sum(tiempo)/60\n",
    "    minutos, horas = math.modf(tiempo)\n",
    "    \n",
    "    return ('Mision a {destino}'\\\n",
    "        '\\nTiempo de Vuelo = {tiempo_h:.0f} Horas, {tiempo_m:.0f} minutos'\\\n",
    "        '\\nDestino = {destino}'\\\n",
    "        '\\nCombustible total = {tank} Lts\\n'\\\n",
    "        .format(destino=destino,tiempo_h=horas, tiempo_m=minutos*60\\\n",
    "            ,tank=sum(combustible.values())*100))\n",
    "\n",
    "print(reportes_estado('Marte',49,12,18,tankUno=45, tankDos=19))\n",
    "\n",
    "# Debido a que el combustible que queda en los tanques es específico de cada\n",
    "# tanque, actualiza la función para usar el nombre de cada tanque en el informe:\n",
    "#\n",
    "# Escribe tu nueva función\n",
    "def reportes_estado(destino,*tiempo, **combustible):\n",
    "    tiempo = sum(tiempo)/60\n",
    "    minutos, horas = math.modf(tiempo)\n",
    "    \n",
    "    reporte = ('Mision a {destino}'\\\n",
    "        '\\nTiempo de Vuelo = {tiempo_h:.0f} Horas, {tiempo_m:.0f} minutos'\\\n",
    "        '\\nDestino = {destino}'\\\n",
    "        '\\nCombustible total = {tank} Lts'\\\n",
    "        .format(destino=destino,tiempo_h=horas, tiempo_m=minutos*60\\\n",
    "            ,tank=sum(combustible.values())*100))\n",
    "\n",
    "    for name, quantity in combustible.items():\n",
    "        reporte += \"\\nEl Tanque {name} tiene {quantity} lts restantes\"\\\n",
    "            .format(name=name,quantity=quantity*100)\n",
    "\n",
    "    return reporte\n",
    "\n",
    "print(reportes_estado('Marte',49,12,18,A=45, B=19))\n"
   ]
  }
 ],
 "metadata": {
  "interpreter": {
   "hash": "641aeb772402adc7bad80dc3e9fa055120951664449631f2a57f19909b026f0b"
  },
  "kernelspec": {
   "display_name": "Python 3.9.10 64-bit",
   "language": "python",
   "name": "python3"
  },
  "language_info": {
   "codemirror_mode": {
    "name": "ipython",
    "version": 3
   },
   "file_extension": ".py",
   "mimetype": "text/x-python",
   "name": "python",
   "nbconvert_exporter": "python",
   "pygments_lexer": "ipython3",
   "version": "3.9.10"
  },
  "orig_nbformat": 4
 },
 "nbformat": 4,
 "nbformat_minor": 2
}
